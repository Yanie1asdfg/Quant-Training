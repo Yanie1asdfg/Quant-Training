{
 "cells": [
  {
   "cell_type": "code",
   "execution_count": 234,
   "metadata": {},
   "outputs": [],
   "source": [
    "import jqdatasdk\n",
    "import pandas as pd\n",
    "from datetime import datetime,timedelta\n",
    "jqdatasdk.auth(\"18523900898\",\"189Qwert\")\n",
    "# df = jqdatasdk.get_price('600519.XSHG',count=10,end_date = '2020-08-01',frequency='daily')\n"
   ]
  },
  {
   "cell_type": "code",
   "execution_count": 235,
   "metadata": {},
   "outputs": [],
   "source": [
    "# 获取一段时间的交易日\n",
    "def get_trade_days_daily(start,end):\n",
    "    '''\n",
    "    获取每月月底的交易日的日历\n",
    "    注意: 结束日期必须是一个月的最后一天\n",
    "    :param start:\n",
    "    :param end:\n",
    "    :return:  list,每月最后一个交易日的列表,里面元素是datetime.date类型\n",
    "    '''\n",
    "    # 日频率的交易日历: Index\n",
    "    index = jqdatasdk.get_trade_days(start_date=start, end_date=end)\n",
    "    # 转成一个df , 索引和值都是交易日(天)\n",
    "    df = pd.DataFrame(index, index=index)\n",
    "    # 将Index转成DatetimeIndex\n",
    "    df.index = pd.to_datetime(df.index)\n",
    "    # 按月重采样,缺失值用上一个填充,那么刚好值就是想要的每月最后一个交易日\n",
    "#     index_m = list(df.resample('m', how='last').iloc[:,0])\n",
    "    return df.index\n",
    "date = get_trade_days_daily('2019-03-01','2019-05-01')\n"
   ]
  },
  {
   "cell_type": "code",
   "execution_count": 236,
   "metadata": {},
   "outputs": [],
   "source": []
  },
  {
   "cell_type": "code",
   "execution_count": 237,
   "metadata": {},
   "outputs": [
    {
     "ename": "Exception",
     "evalue": "您当天的查询条数超过了每日最大查询限制：100万条；付费可增加流量权限，详情请咨询管理员，微信号：JQData02",
     "output_type": "error",
     "traceback": [
      "\u001b[1;31m---------------------------------------------------------------------------\u001b[0m",
      "\u001b[1;31mException\u001b[0m                                 Traceback (most recent call last)",
      "\u001b[1;32m<ipython-input-237-7c644ddd976e>\u001b[0m in \u001b[0;36m<module>\u001b[1;34m\u001b[0m\n\u001b[0;32m     11\u001b[0m             \u001b[0mall\u001b[0m \u001b[1;33m=\u001b[0m \u001b[0mall\u001b[0m\u001b[1;33m.\u001b[0m\u001b[0mdrop\u001b[0m\u001b[1;33m(\u001b[0m\u001b[0me\u001b[0m\u001b[1;33m,\u001b[0m\u001b[0maxis\u001b[0m\u001b[1;33m=\u001b[0m\u001b[1;36m0\u001b[0m\u001b[1;33m)\u001b[0m\u001b[1;33m\u001b[0m\u001b[1;33m\u001b[0m\u001b[0m\n\u001b[0;32m     12\u001b[0m     \u001b[1;31m# 过滤停牌股票\u001b[0m\u001b[1;33m\u001b[0m\u001b[1;33m\u001b[0m\u001b[1;33m\u001b[0m\u001b[0m\n\u001b[1;32m---> 13\u001b[1;33m     \u001b[0mall\u001b[0m \u001b[1;33m=\u001b[0m \u001b[0mjqdatasdk\u001b[0m\u001b[1;33m.\u001b[0m\u001b[0mget_price\u001b[0m\u001b[1;33m(\u001b[0m\u001b[0mall\u001b[0m\u001b[1;33m.\u001b[0m\u001b[0mindex\u001b[0m\u001b[1;33m.\u001b[0m\u001b[0mtolist\u001b[0m\u001b[1;33m(\u001b[0m\u001b[1;33m)\u001b[0m\u001b[1;33m,\u001b[0m\u001b[0mend_date\u001b[0m\u001b[1;33m=\u001b[0m\u001b[0mi\u001b[0m\u001b[1;33m,\u001b[0m \u001b[0mcount\u001b[0m\u001b[1;33m=\u001b[0m\u001b[1;36m1\u001b[0m\u001b[1;33m,\u001b[0m\u001b[0mfields\u001b[0m\u001b[1;33m=\u001b[0m\u001b[1;33m[\u001b[0m\u001b[1;34m'open'\u001b[0m\u001b[1;33m,\u001b[0m \u001b[1;34m'close'\u001b[0m\u001b[1;33m,\u001b[0m \u001b[1;34m'low'\u001b[0m\u001b[1;33m,\u001b[0m \u001b[1;34m'high'\u001b[0m\u001b[1;33m,\u001b[0m\u001b[1;34m'high_limit'\u001b[0m\u001b[1;33m,\u001b[0m\u001b[1;34m'low_limit'\u001b[0m\u001b[1;33m,\u001b[0m\u001b[1;34m'paused'\u001b[0m\u001b[1;33m,\u001b[0m\u001b[1;33m]\u001b[0m\u001b[1;33m,\u001b[0m\u001b[0mpanel\u001b[0m\u001b[1;33m=\u001b[0m\u001b[1;32mFalse\u001b[0m\u001b[1;33m)\u001b[0m\u001b[1;33m\u001b[0m\u001b[1;33m\u001b[0m\u001b[0m\n\u001b[0m\u001b[0;32m     14\u001b[0m     \u001b[0mall\u001b[0m \u001b[1;33m=\u001b[0m \u001b[0mall\u001b[0m\u001b[1;33m[\u001b[0m\u001b[0mall\u001b[0m\u001b[1;33m.\u001b[0m\u001b[0mpaused\u001b[0m\u001b[1;33m==\u001b[0m\u001b[1;36m0\u001b[0m\u001b[1;33m]\u001b[0m\u001b[1;33m\u001b[0m\u001b[1;33m\u001b[0m\u001b[0m\n\u001b[0;32m     15\u001b[0m \u001b[1;31m#     print(len(all))\u001b[0m\u001b[1;33m\u001b[0m\u001b[1;33m\u001b[0m\u001b[1;33m\u001b[0m\u001b[0m\n",
      "\u001b[1;32md:\\vn studio\\lib\\site-packages\\jqdatasdk\\utils.py\u001b[0m in \u001b[0;36m_wrapper\u001b[1;34m(*args, **kwargs)\u001b[0m\n\u001b[0;32m    228\u001b[0m             \u001b[0mprint\u001b[0m\u001b[1;33m(\u001b[0m\u001b[1;34m\"run jqdatasdk.auth first\"\u001b[0m\u001b[1;33m)\u001b[0m\u001b[1;33m\u001b[0m\u001b[1;33m\u001b[0m\u001b[0m\n\u001b[0;32m    229\u001b[0m         \u001b[1;32melse\u001b[0m\u001b[1;33m:\u001b[0m\u001b[1;33m\u001b[0m\u001b[1;33m\u001b[0m\u001b[0m\n\u001b[1;32m--> 230\u001b[1;33m             \u001b[1;32mreturn\u001b[0m \u001b[0mfunc\u001b[0m\u001b[1;33m(\u001b[0m\u001b[1;33m*\u001b[0m\u001b[0margs\u001b[0m\u001b[1;33m,\u001b[0m \u001b[1;33m**\u001b[0m\u001b[0mkwargs\u001b[0m\u001b[1;33m)\u001b[0m\u001b[1;33m\u001b[0m\u001b[1;33m\u001b[0m\u001b[0m\n\u001b[0m\u001b[0;32m    231\u001b[0m     \u001b[1;32mreturn\u001b[0m \u001b[0m_wrapper\u001b[0m\u001b[1;33m\u001b[0m\u001b[1;33m\u001b[0m\u001b[0m\n\u001b[0;32m    232\u001b[0m \u001b[1;33m\u001b[0m\u001b[0m\n",
      "\u001b[1;32md:\\vn studio\\lib\\site-packages\\jqdatasdk\\api.py\u001b[0m in \u001b[0;36mget_price\u001b[1;34m(security, start_date, end_date, frequency, fields, skip_paused, fq, count, panel, fill_paused)\u001b[0m\n\u001b[0;32m     35\u001b[0m     \u001b[1;32mif\u001b[0m \u001b[0mcount\u001b[0m \u001b[1;32mand\u001b[0m \u001b[0mstart_date\u001b[0m\u001b[1;33m:\u001b[0m\u001b[1;33m\u001b[0m\u001b[1;33m\u001b[0m\u001b[0m\n\u001b[0;32m     36\u001b[0m         \u001b[1;32mraise\u001b[0m \u001b[0mParamsError\u001b[0m\u001b[1;33m(\u001b[0m\u001b[1;34m\"(start_date, count) only one param is required\"\u001b[0m\u001b[1;33m)\u001b[0m\u001b[1;33m\u001b[0m\u001b[1;33m\u001b[0m\u001b[0m\n\u001b[1;32m---> 37\u001b[1;33m     \u001b[1;32mreturn\u001b[0m \u001b[0mJQDataClient\u001b[0m\u001b[1;33m.\u001b[0m\u001b[0minstance\u001b[0m\u001b[1;33m(\u001b[0m\u001b[1;33m)\u001b[0m\u001b[1;33m.\u001b[0m\u001b[0mget_price\u001b[0m\u001b[1;33m(\u001b[0m\u001b[1;33m**\u001b[0m\u001b[0mlocals\u001b[0m\u001b[1;33m(\u001b[0m\u001b[1;33m)\u001b[0m\u001b[1;33m)\u001b[0m\u001b[1;33m\u001b[0m\u001b[1;33m\u001b[0m\u001b[0m\n\u001b[0m\u001b[0;32m     38\u001b[0m \u001b[1;33m\u001b[0m\u001b[0m\n\u001b[0;32m     39\u001b[0m \u001b[1;33m\u001b[0m\u001b[0m\n",
      "\u001b[1;32md:\\vn studio\\lib\\site-packages\\jqdatasdk\\client.py\u001b[0m in \u001b[0;36m<lambda>\u001b[1;34m(**kwargs)\u001b[0m\n\u001b[0;32m    167\u001b[0m \u001b[1;33m\u001b[0m\u001b[0m\n\u001b[0;32m    168\u001b[0m     \u001b[1;32mdef\u001b[0m \u001b[0m__getattr__\u001b[0m\u001b[1;33m(\u001b[0m\u001b[0mself\u001b[0m\u001b[1;33m,\u001b[0m \u001b[0mmethod\u001b[0m\u001b[1;33m)\u001b[0m\u001b[1;33m:\u001b[0m\u001b[1;33m\u001b[0m\u001b[1;33m\u001b[0m\u001b[0m\n\u001b[1;32m--> 169\u001b[1;33m         \u001b[1;32mreturn\u001b[0m \u001b[1;32mlambda\u001b[0m \u001b[1;33m**\u001b[0m\u001b[0mkwargs\u001b[0m\u001b[1;33m:\u001b[0m \u001b[0mself\u001b[0m\u001b[1;33m(\u001b[0m\u001b[0mmethod\u001b[0m\u001b[1;33m,\u001b[0m \u001b[1;33m**\u001b[0m\u001b[0mkwargs\u001b[0m\u001b[1;33m)\u001b[0m\u001b[1;33m\u001b[0m\u001b[1;33m\u001b[0m\u001b[0m\n\u001b[0m\u001b[0;32m    170\u001b[0m \u001b[1;33m\u001b[0m\u001b[0m\n\u001b[0;32m    171\u001b[0m     \u001b[1;32mdef\u001b[0m \u001b[0mget_data_api_url\u001b[0m\u001b[1;33m(\u001b[0m\u001b[0mself\u001b[0m\u001b[1;33m)\u001b[0m\u001b[1;33m:\u001b[0m\u001b[1;33m\u001b[0m\u001b[1;33m\u001b[0m\u001b[0m\n",
      "\u001b[1;32md:\\vn studio\\lib\\site-packages\\jqdatasdk\\client.py\u001b[0m in \u001b[0;36m__call__\u001b[1;34m(self, method, **kwargs)\u001b[0m\n\u001b[0;32m    162\u001b[0m         \u001b[1;32mif\u001b[0m \u001b[0mresult\u001b[0m \u001b[1;32mis\u001b[0m \u001b[1;32mNone\u001b[0m\u001b[1;33m:\u001b[0m\u001b[1;33m\u001b[0m\u001b[1;33m\u001b[0m\u001b[0m\n\u001b[0;32m    163\u001b[0m             \u001b[1;32mif\u001b[0m \u001b[0misinstance\u001b[0m\u001b[1;33m(\u001b[0m\u001b[0merr\u001b[0m\u001b[1;33m,\u001b[0m \u001b[0mException\u001b[0m\u001b[1;33m)\u001b[0m\u001b[1;33m:\u001b[0m\u001b[1;33m\u001b[0m\u001b[1;33m\u001b[0m\u001b[0m\n\u001b[1;32m--> 164\u001b[1;33m                 \u001b[1;32mraise\u001b[0m \u001b[0merr\u001b[0m\u001b[1;33m\u001b[0m\u001b[1;33m\u001b[0m\u001b[0m\n\u001b[0m\u001b[0;32m    165\u001b[0m \u001b[1;33m\u001b[0m\u001b[0m\n\u001b[0;32m    166\u001b[0m         \u001b[1;32mreturn\u001b[0m \u001b[0mresult\u001b[0m\u001b[1;33m\u001b[0m\u001b[1;33m\u001b[0m\u001b[0m\n",
      "\u001b[1;31mException\u001b[0m: 您当天的查询条数超过了每日最大查询限制：100万条；付费可增加流量权限，详情请咨询管理员，微信号：JQData02"
     ]
    }
   ],
   "source": [
    "for i in date[0:2]:\n",
    "    # 获取每一日所有的股票\n",
    "#     print(i)\n",
    "#     print(i-timedelta(days=65))#\n",
    "    all = jqdatasdk.get_all_securities(date=i)\n",
    "    # 上市超过60日\n",
    "#     print(all)\n",
    "    # 过滤ST及其他具有退市标签的股票 上市超过60日\n",
    "    for e in all.index:\n",
    "        if 'ST' in all.loc[e,'display_name'] or '*' in all.loc[e,'display_name'] or '退' in all.loc[e,'display_name'] or i.__gt__(all.loc[e,'start_date']+timedelta(days=65))==False:\n",
    "            all = all.drop(e,axis=0)\n",
    "    # 过滤停牌股票\n",
    "    all = jqdatasdk.get_price(all.index.tolist(),end_date=i, count=1,fields=['open', 'close', 'low', 'high','high_limit','low_limit','paused',],panel=False)\n",
    "    all = all[all.paused==0]\n",
    "#     print(len(all))\n",
    "    # 过滤一字跌停\n",
    "    all = all[all['close']-all['low_limit']>0.1]\n",
    "    print(len(all))\n",
    "    print(all)\n",
    "    #60日最低\n",
    "    b = []\n",
    "    price = jqdatasdk.get_price(all['code'].tolist(), count = 60, end_date=i, frequency='daily', fields=['close'])\n",
    "    print(price.info())\n",
    "#     for o in all['code'].tolist():\n",
    "# #         print(o)\n",
    "#         price = jqdatasdk.get_price(o, count = 60, end_date=i, frequency='daily', fields=['close'])\n",
    "# #         print(price)\n",
    "# #         print(price.min()[0],price.iloc[-1]['close'])\n",
    "#         if price.min()[0]==price.iloc[-1]['close']:\n",
    "#             b.append(o)\n",
    "#     print(len(b))\n",
    "#     print(b)\n",
    "#     # 60日最低\n",
    "#     if len(b)>0:\n",
    "#         stock = jqdatasdk.get_price(b,end_date=i, count=1,fields=['open', 'close', 'low', 'high'],panel=False)\n",
    "#     print(stock)\n",
    "    break\n",
    "    \n",
    "    # 去除st,含有退市标签的股票\n",
    "    "
   ]
  },
  {
   "cell_type": "code",
   "execution_count": null,
   "metadata": {},
   "outputs": [],
   "source": [
    "all = jqdatasdk.get_price(all.index.tolist(),end_date=date[0], count=1,fields=['open', 'close', 'low', 'high','high_limit','low_limit','paused',],panel=False)"
   ]
  },
  {
   "cell_type": "code",
   "execution_count": null,
   "metadata": {},
   "outputs": [],
   "source": []
  },
  {
   "cell_type": "code",
   "execution_count": null,
   "metadata": {},
   "outputs": [],
   "source": []
  },
  {
   "cell_type": "code",
   "execution_count": null,
   "metadata": {},
   "outputs": [],
   "source": []
  },
  {
   "cell_type": "code",
   "execution_count": null,
   "metadata": {},
   "outputs": [],
   "source": []
  },
  {
   "cell_type": "code",
   "execution_count": null,
   "metadata": {},
   "outputs": [],
   "source": []
  },
  {
   "cell_type": "code",
   "execution_count": null,
   "metadata": {},
   "outputs": [],
   "source": []
  },
  {
   "cell_type": "code",
   "execution_count": null,
   "metadata": {},
   "outputs": [],
   "source": []
  },
  {
   "cell_type": "code",
   "execution_count": null,
   "metadata": {},
   "outputs": [],
   "source": [
    "# 过滤停牌股票\n",
    "def filter_paused_stock(stock_list):\n",
    "\tcurrent_data = jqdatasdk.get_current_data()\n",
    "\treturn [stock for stock in stock_list if not current_data[stock].paused]\n",
    "\n",
    "# 过滤ST及其他具有退市标签的股票\n",
    "def filter_st_stock(stock_list):\n",
    "\tcurrent_data = jqdatasdk.get_current_data()\n",
    "\treturn [stock for stock in stock_list\n",
    "\t\t\tif not current_data[stock].is_st\n",
    "\t\t\tand 'ST' not in current_data[stock].name\n",
    "\t\t\tand '*' not in current_data[stock].name\n",
    "\t\t\tand '退' not in current_data[stock].name]\n",
    "\n",
    "# 过滤跌停的股票\n",
    "def filter_limitdown_stock(stock_list):\n",
    "\tlast_prices = jqdatasdk.history(1, unit='1m', field='close', security_list=stock_list)\n",
    "\tcurrent_data = jqdatasdk.get_current_data()\n",
    "\treturn [stock for stock in stock_list if last_prices[stock][-1] > current_data[stock].low_limit]"
   ]
  },
  {
   "cell_type": "code",
   "execution_count": null,
   "metadata": {},
   "outputs": [],
   "source": [
    "# 过滤停牌股票\n",
    "def filter_paused_stock(all,date):\n",
    "    is_susp = jqdatasdk.get_price(all,end_date=date, count=1,fields='paused',panel=False)\n",
    "    is_susp = is_susp[is_susp.paused==0]\n",
    "    return is_susp\n",
    "\n",
    "# 过滤ST及其他具有退市标签的股票\n",
    "# 过滤ST及其他具有退市标签的股票\n",
    "def filter_st_stock(stock_list,date):\n",
    "    return [stock for stock in stock_list\n",
    "        if 'ST' not in jqdatasdk.get_security_info(stock,date=date).display_name\n",
    "        and '*' not in jqdatasdk.get_security_info(stock,date=date).display_name\n",
    "        and '退' not in jqdatasdk.get_security_info(stock,date=date).display_name]"
   ]
  },
  {
   "cell_type": "code",
   "execution_count": null,
   "metadata": {},
   "outputs": [],
   "source": []
  }
 ],
 "metadata": {
  "kernelspec": {
   "display_name": "Python 3",
   "language": "python",
   "name": "python3"
  },
  "language_info": {
   "codemirror_mode": {
    "name": "ipython",
    "version": 3
   },
   "file_extension": ".py",
   "mimetype": "text/x-python",
   "name": "python",
   "nbconvert_exporter": "python",
   "pygments_lexer": "ipython3",
   "version": "3.7.1"
  }
 },
 "nbformat": 4,
 "nbformat_minor": 4
}
